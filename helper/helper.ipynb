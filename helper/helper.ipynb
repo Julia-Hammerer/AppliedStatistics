{
 "cells": [
  {
   "cell_type": "markdown",
   "metadata": {},
   "source": [
    "# Helper functions\n",
    "\n",
    "This file contains useful functions that can be used in multiple notebooks. \n",
    "\n",
    "Note: After adding a function, do not forget to save it as a **.py file**. \n",
    "\n",
    "\n",
    "Authors: Julia Hammerer, Vanessa Mai <br>\n",
    "Last Change: 18.11.2018"
   ]
  },
  {
   "cell_type": "code",
   "execution_count": null,
   "metadata": {},
   "outputs": [],
   "source": [
    "import pandas as pd\n",
    "import seaborn as sns\n",
    "\n",
    "from scipy.stats import pearsonr\n",
    "import matplotlib.pyplot as plt\n",
    "import numpy as np\n",
    "import plotly.graph_objs as go\n",
    "\n",
    "from scipy import stats\n",
    "from scipy.stats import norm\n",
    "from scipy.stats import pearsonr\n"
   ]
  },
  {
   "cell_type": "code",
   "execution_count": null,
   "metadata": {},
   "outputs": [],
   "source": [
    "# plots a confusion matrix\n",
    "def plot_confusion_matrix(confmat):\n",
    "    fig, ax = plt.subplots(figsize=(2.5, 2.5))\n",
    "    ax.matshow(confmat, cmap=plt.cm.Blues, alpha=0.3)\n",
    "    for i in range(confmat.shape[0]):\n",
    "        for j in range(confmat.shape[1]):\n",
    "            ax.text(x=j, y=i,\n",
    "            s=confmat[i, j],va='center', ha='center')\n",
    "    plt.xlabel('predicted label')\n",
    "    plt.ylabel('true label')"
   ]
  },
  {
   "cell_type": "code",
   "execution_count": null,
   "metadata": {},
   "outputs": [],
   "source": [
    "def na_ratio_table(df):\n",
    "    \"\"\" NA counts and percentage values for each dataframe column\n",
    "\n",
    "    Args:\n",
    "        df (pandas DataFrame): DataFrame object\n",
    "\n",
    "    Returns:\n",
    "        pandas DataFrame: original columns to rows, returns NA_COUNT and\n",
    "            NA_RATIO_PERC columns\n",
    "    \"\"\"\n",
    "    null_sum = df.isnull().sum()\n",
    "    return pd.DataFrame({'NA_COUNT': null_sum,\n",
    "                         'NA_RATIO_PERC': (null_sum / df.shape[0]) * 100})"
   ]
  },
  {
   "cell_type": "code",
   "execution_count": null,
   "metadata": {},
   "outputs": [],
   "source": [
    "def dist_quantile_plots(df, categories, cat_col='SalePrice',\n",
    "                        res_col='SalePrice'):\n",
    "    \"\"\" Grid of pairs of distribution plot and theoretical quantiles plot.\n",
    "\n",
    "    Two plots for each category: distribution plot fitted to normal distribution\n",
    "    and theoretical quantiles plot\n",
    "\n",
    "    Args:\n",
    "        df (pandas DataFrame): DataFrame object\n",
    "        categories (list): list of categories to filter the data for plots\n",
    "        cat_col (str): column name to filter the data by its unique values\n",
    "            from categories to plot. 'MeasurementDescription' by default\n",
    "        res_col (str): column name of values to plot. 'MeasurementResult'\n",
    "            by default\n",
    "\n",
    "    Returns:\n",
    "        axes grid: grid of matplotlib pyplot seaborn distribution and\n",
    "        theoretical quantiles subplots\n",
    "\n",
    "    \"\"\"\n",
    "    c_categories = len(categories)\n",
    "\n",
    "    with sns.axes_style('darkgrid'):\n",
    "        fig, axes = plt.subplots(c_categories, 2,\n",
    "                                 figsize=(18, 6 * c_categories))\n",
    "\n",
    "    for i, cat in enumerate(categories):\n",
    "        cat_data = df.loc[df[cat_col] == cat][res_col]\n",
    "        (mean, std) = norm.fit(cat_data)\n",
    "        ax_distplot = axes[i, 0]\n",
    "        sns.distplot(cat_data, fit=norm, ax=ax_distplot)\n",
    "        ax_distplot.legend([\n",
    "            'Normal dist. ($\\mu=$ {:.2f} and $\\sigma=$ {:.2f} )'.format(\n",
    "                mean, std)],\n",
    "            loc='upper right', fontsize=12)\n",
    "        ax_distplot.set_ylabel('Frequency', fontsize=14)\n",
    "        ax_distplot.set_xlabel('MeasurementResult', fontsize=14)\n",
    "        ax_distplot.set_title('{} - Distribution'.format(cat), fontsize=14)\n",
    "\n",
    "        ax_probplot = axes[i, 1]\n",
    "        stats.probplot(cat_data, plot=ax_probplot, rvalue=True)\n",
    "        ax_probplot.set_title('{} - Probability Plot'.format(cat), fontsize=14)\n",
    "        ax_probplot.set_ylabel('Ordered Values', fontsize=14)\n",
    "        ax_probplot.set_xlabel('Theoretical quantiles', fontsize=14)\n",
    "\n",
    "    return fig.show()"
   ]
  },
  {
   "cell_type": "code",
   "execution_count": null,
   "metadata": {},
   "outputs": [],
   "source": [
    "def corr_heatmap(df, vmax=1.0, center=0.2, figsize=(16, 12)):\n",
    "    \"\"\" Correlation heatmap.\n",
    "\n",
    "    Correlation heatmap triangle. Duplications and diagonal values removed.\n",
    "\n",
    "    Args:\n",
    "        df (pandas DataFrame): DataFrame object with correlations\n",
    "        vmax (float): maximum value of correlation for legend, 1.0 by default\n",
    "        center (float): center value for correlation pallete of colors,\n",
    "            0.2 by default\n",
    "        figsize (tuple): figure size, width and height, (18, 12) by default\n",
    "\n",
    "    Returns:\n",
    "        Correlation heatmap triangle\n",
    "\n",
    "    \"\"\"\n",
    "    mask = np.zeros_like(df, dtype=np.bool)\n",
    "    mask[np.triu_indices_from(mask)] = True\n",
    "\n",
    "    with sns.axes_style('white'):\n",
    "        _, _ = plt.subplots(figsize=figsize)\n",
    "\n",
    "    cmap = sns.diverging_palette(220, 10, as_cmap=True)\n",
    "    sns.heatmap(df, mask=mask, cmap=cmap, vmax=vmax, center=center, annot=True,\n",
    "                fmt='0.2f',\n",
    "                square=True, linewidth=.5, cbar_kws={\"shrink\": .5})\n",
    "    plt.ylabel(df.index.name, fontsize=16)\n",
    "    plt.xlabel(df.index.name, fontsize=16)\n",
    "    plt.xticks(fontsize=12)\n",
    "    plt.yticks(fontsize=12)"
   ]
  },
  {
   "cell_type": "code",
   "execution_count": null,
   "metadata": {},
   "outputs": [],
   "source": [
    "def _corr_func_1(x, y, **kwargs):\n",
    "    nas = np.logical_or(x.isna(), y.isna())\n",
    "    corr_r, p_value = pearsonr(x[~nas], y[~nas])\n",
    "    ax = plt.gca()\n",
    "    ax.annotate('r = {:.2f} '.format(corr_r),\n",
    "                xy=(0.05, 0.9), xycoords=ax.transAxes)\n",
    "    ax.annotate('p = {:.2f} '.format(p_value),\n",
    "                xy=(0.05, 0.8), xycoords=ax.transAxes)"
   ]
  },
  {
   "cell_type": "code",
   "execution_count": null,
   "metadata": {},
   "outputs": [],
   "source": [
    "def corr_matrix_1(df, fontScale=1):\n",
    "    \"\"\" Linear regressions and bivariate distributions matrix.\n",
    "\n",
    "    Correlation Matrix - Version 1:\n",
    "    on the left - bivariate kernel density estimates\n",
    "    diagonal - estimated measurement distributions\n",
    "    on the right - scatter plot and simple linear regression with confidence\n",
    "        intervals, pearson correlations, and p-values\n",
    "\n",
    "    Args:\n",
    "        df (pandas DataFrame): DataFrame object\n",
    "    Returns:\n",
    "        PairGrid figure: grid of plots\n",
    "\n",
    "    \"\"\"\n",
    "    sns.set(style='white', font_scale=fontScale)\n",
    "    fig = sns.PairGrid(df, palette=['red'], diag_sharey=False)\n",
    "    fig.map_upper(sns.regplot, line_kws={\"color\": \"black\"})\n",
    "    fig.map_upper(_corr_func_1)\n",
    "    fig.map_diag(sns.kdeplot, lw=3)\n",
    "    fig.map_lower(sns.kdeplot, map='Reds_d')\n",
    "    return fig"
   ]
  }
 ],
 "metadata": {
  "kernelspec": {
   "display_name": "Python [conda env:anaconda3]",
   "language": "python",
   "name": "conda-env-anaconda3-py"
  },
  "language_info": {
   "codemirror_mode": {
    "name": "ipython",
    "version": 3
   },
   "file_extension": ".py",
   "mimetype": "text/x-python",
   "name": "python",
   "nbconvert_exporter": "python",
   "pygments_lexer": "ipython3",
   "version": "3.6.6"
  },
  "toc": {
   "base_numbering": 1,
   "nav_menu": {},
   "number_sections": true,
   "sideBar": true,
   "skip_h1_title": false,
   "title_cell": "Table of Contents",
   "title_sidebar": "Contents",
   "toc_cell": false,
   "toc_position": {},
   "toc_section_display": true,
   "toc_window_display": false
  },
  "varInspector": {
   "cols": {
    "lenName": 16,
    "lenType": 16,
    "lenVar": 40
   },
   "kernels_config": {
    "python": {
     "delete_cmd_postfix": "",
     "delete_cmd_prefix": "del ",
     "library": "var_list.py",
     "varRefreshCmd": "print(var_dic_list())"
    },
    "r": {
     "delete_cmd_postfix": ") ",
     "delete_cmd_prefix": "rm(",
     "library": "var_list.r",
     "varRefreshCmd": "cat(var_dic_list()) "
    }
   },
   "types_to_exclude": [
    "module",
    "function",
    "builtin_function_or_method",
    "instance",
    "_Feature"
   ],
   "window_display": false
  }
 },
 "nbformat": 4,
 "nbformat_minor": 2
}
