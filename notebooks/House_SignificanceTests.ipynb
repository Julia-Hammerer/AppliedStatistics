{
 "cells": [
  {
   "cell_type": "markdown",
   "metadata": {},
   "source": [
    "# Significance Tests\n",
    "When looking at the modeling we did so far, we saw that some of the important features were categorical. We would like to apply a significance test to see if there are differences in the different groups.\n",
    "\n",
    "Author: Julia Hammerer, Vanessa Mai \n",
    "Last Changes: 09.12.2018"
   ]
  },
  {
   "cell_type": "markdown",
   "metadata": {
    "toc": true
   },
   "source": [
    "<h1>Table of Contents<span class=\"tocSkip\"></span></h1>\n",
    "<div class=\"toc\"><ul class=\"toc-item\"><li><span><a href=\"#Significance-Tests\" data-toc-modified-id=\"Significance-Tests-1\"><span class=\"toc-item-num\">1&nbsp;&nbsp;</span>Significance Tests</a></span><ul class=\"toc-item\"><li><span><a href=\"#Mann-Whitney-U-Test\" data-toc-modified-id=\"Mann-Whitney-U-Test-1.1\"><span class=\"toc-item-num\">1.1&nbsp;&nbsp;</span>Mann Whitney U Test</a></span></li><li><span><a href=\"#TT-Test\" data-toc-modified-id=\"TT-Test-1.2\"><span class=\"toc-item-num\">1.2&nbsp;&nbsp;</span>TT-Test</a></span></li></ul></li></ul></div>"
   ]
  },
  {
   "cell_type": "code",
   "execution_count": 1,
   "metadata": {},
   "outputs": [],
   "source": [
    "import sys\n",
    "sys.path.insert(0, '../helper/')"
   ]
  },
  {
   "cell_type": "code",
   "execution_count": 27,
   "metadata": {
    "scrolled": true
   },
   "outputs": [],
   "source": [
    "# load packages\n",
    "%matplotlib inline\n",
    "import numpy as np\n",
    "import pandas as pd\n",
    "import seaborn as sns\n",
    "import pandas_profiling\n",
    "import missingno as msno\n",
    "import matplotlib.pyplot as plt\n",
    "import plotly.graph_objs as go\n",
    "import warnings\n",
    "import math\n",
    "from scipy.stats import mannwhitneyu\n",
    "from scipy.stats import ttest_ind\n",
    "from scipy.stats import kstest"
   ]
  },
  {
   "cell_type": "markdown",
   "metadata": {},
   "source": [
    "One of the important features was the neighborhood, so we are going to take a look at that. We will test one against all other"
   ]
  },
  {
   "cell_type": "code",
   "execution_count": 3,
   "metadata": {},
   "outputs": [],
   "source": [
    "# load data\n",
    "df=pd.read_csv(\"../data/house_prices_train.csv\")\n"
   ]
  },
  {
   "cell_type": "code",
   "execution_count": 11,
   "metadata": {},
   "outputs": [
    {
     "data": {
      "text/plain": [
       "array(['CollgCr', 'Veenker', 'Crawfor', 'NoRidge', 'Mitchel', 'Somerst',\n",
       "       'NWAmes', 'OldTown', 'BrkSide', 'Sawyer', 'NridgHt', 'NAmes',\n",
       "       'SawyerW', 'IDOTRR', 'MeadowV', 'Edwards', 'Timber', 'Gilbert',\n",
       "       'StoneBr', 'ClearCr', 'NPkVill', 'Blmngtn', 'BrDale', 'SWISU',\n",
       "       'Blueste'], dtype=object)"
      ]
     },
     "execution_count": 11,
     "metadata": {},
     "output_type": "execute_result"
    }
   ],
   "source": [
    "neighborhoods"
   ]
  },
  {
   "cell_type": "code",
   "execution_count": 6,
   "metadata": {},
   "outputs": [],
   "source": [
    "neighborhoods=df.Neighborhood.unique()"
   ]
  },
  {
   "cell_type": "markdown",
   "metadata": {},
   "source": [
    "## Mann Whitney U Test\n",
    "Does not necessarily requires a normal distribution"
   ]
  },
  {
   "cell_type": "code",
   "execution_count": 16,
   "metadata": {},
   "outputs": [],
   "source": [
    "a, b=mannwhitneyu(df[df[\"Neighborhood\"]==\"Veenker\"][\"SalePrice\"], df[df[\"Neighborhood\"]!=\"Veenker\"][\"SalePrice\"])"
   ]
  },
  {
   "cell_type": "code",
   "execution_count": null,
   "metadata": {},
   "outputs": [],
   "source": []
  },
  {
   "cell_type": "code",
   "execution_count": 22,
   "metadata": {},
   "outputs": [
    {
     "name": "stdout",
     "output_type": "stream",
     "text": [
      "CollgCr Stat=69854.500, p=0.0000\n",
      "Veenker Stat=3899.000, p=0.0017\n",
      "Crawfor Stat=24728.000, p=0.0001\n",
      "NoRidge Stat=4231.500, p=0.0000\n",
      "Mitchel Stat=29438.000, p=0.0385\n",
      "Somerst Stat=29995.500, p=0.0000\n",
      "NWAmes Stat=38043.500, p=0.0002\n",
      "OldTown Stat=33193.500, p=0.0000\n",
      "BrkSide Stat=19671.500, p=0.0000\n",
      "Sawyer Stat=31250.500, p=0.0000\n",
      "NridgHt Stat=10152.000, p=0.0000\n",
      "NAmes Stat=94162.500, p=0.0000\n",
      "SawyerW Stat=35241.500, p=0.0275\n",
      "IDOTRR Stat=6592.000, p=0.0000\n",
      "MeadowV Stat=2507.500, p=0.0000\n",
      "Edwards Stat=32703.000, p=0.0000\n",
      "Timber Stat=12136.000, p=0.0000\n",
      "Gilbert Stat=38429.500, p=0.0000\n",
      "StoneBr Stat=4848.000, p=0.0000\n",
      "ClearCr Stat=12089.000, p=0.0002\n",
      "NPkVill Stat=4691.500, p=0.0725\n",
      "Blmngtn Stat=8421.500, p=0.0131\n",
      "BrDale Stat=2443.000, p=0.0000\n",
      "SWISU Stat=12783.000, p=0.0068\n",
      "Blueste Stat=914.500, p=0.1811\n"
     ]
    }
   ],
   "source": [
    "for i in neighborhoods:\n",
    "   stat, p = mannwhitneyu(df[df[\"Neighborhood\"]==i][\"SalePrice\"], df[df[\"Neighborhood\"]!=i][\"SalePrice\"])\n",
    "   print(i+ \" \"+ 'Stat=%.3f, p=%.4f' % (stat, p))\n"
   ]
  },
  {
   "cell_type": "markdown",
   "metadata": {},
   "source": [
    "`NPkVill`, `Blmngtn`, `Blueste Stat` seem to be not significantly important. For these attributes we cannot reject the 0-Hypothesis."
   ]
  },
  {
   "cell_type": "markdown",
   "metadata": {},
   "source": [
    "## TT-Test"
   ]
  },
  {
   "cell_type": "code",
   "execution_count": 24,
   "metadata": {
    "scrolled": false
   },
   "outputs": [
    {
     "name": "stdout",
     "output_type": "stream",
     "text": [
      "CollgCr Stat=2.780, p=0.0055\n",
      "Veenker Stat=2.428, p=0.0153\n",
      "Crawfor Stat=2.724, p=0.0065\n",
      "NoRidge Stat=13.368, p=0.0000\n",
      "Mitchel Stat=-2.212, p=0.0271\n",
      "Somerst Stat=5.401, p=0.0000\n",
      "NWAmes Stat=0.897, p=0.3699\n",
      "OldTown Stat=-7.478, p=0.0000\n",
      "BrkSide Stat=-5.542, p=0.0000\n",
      "Sawyer Stat=-4.943, p=0.0000\n",
      "NridgHt Stat=16.771, p=0.0000\n",
      "NAmes Stat=-7.330, p=0.0000\n",
      "SawyerW Stat=0.556, p=0.5783\n",
      "IDOTRR Stat=-6.350, p=0.0000\n",
      "MeadowV Stat=-4.325, p=0.0000\n",
      "Edwards Stat=-6.985, p=0.0000\n",
      "Timber Stat=4.859, p=0.0000\n",
      "Gilbert Stat=1.373, p=0.1699\n",
      "StoneBr Stat=8.421, p=0.0000\n",
      "ClearCr Stat=2.131, p=0.0333\n",
      "NPkVill Stat=-1.449, p=0.1477\n",
      "Blmngtn Stat=0.728, p=0.4667\n",
      "BrDale Stat=-3.888, p=0.0001\n",
      "SWISU Stat=-2.437, p=0.0149\n",
      "Blueste Stat=-0.773, p=0.4394\n"
     ]
    }
   ],
   "source": [
    "for i in neighborhoods:\n",
    "   stat, p = ttest_ind(df[df[\"Neighborhood\"]==i][\"SalePrice\"], df[df[\"Neighborhood\"]!=i][\"SalePrice\"])\n",
    "   print(i+ \" \"+ 'Stat=%.3f, p=%.4f' % (stat, p))\n"
   ]
  },
  {
   "cell_type": "markdown",
   "metadata": {},
   "source": [
    "`NWAmes`, `SawyerW`,`Gilbert`, `Blmngtn`  `NPkVill`,  and `Blueste` seem not to be significantly important. 3 of them have also been identified by the Mann Whitney U test. The effect of most of the other attributes are very small though. \n",
    "Significant attributes + high effect:\n",
    "* CollgCr \n",
    "* Veenker\n",
    "* NoRidge \n",
    "* Somerst \n",
    "* NridgHt \n",
    "* Timber \n",
    "* StoneBr \n",
    "* ClearCr \n",
    "\n",
    "Let's have a look at `NridgHt`  in an exemplary way: "
   ]
  },
  {
   "cell_type": "code",
   "execution_count": 25,
   "metadata": {},
   "outputs": [
    {
     "name": "stderr",
     "output_type": "stream",
     "text": [
      "C:\\Users\\maiv2\\AppData\\Local\\Continuum\\anaconda3\\lib\\site-packages\\scipy\\stats\\stats.py:1713: FutureWarning:\n",
      "\n",
      "Using a non-tuple sequence for multidimensional indexing is deprecated; use `arr[tuple(seq)]` instead of `arr[seq]`. In the future this will be interpreted as an array index, `arr[np.array(seq)]`, which will result either in an error or a different result.\n",
      "\n"
     ]
    },
    {
     "data": {
      "text/plain": [
       "<matplotlib.axes._subplots.AxesSubplot at 0x29a33915668>"
      ]
     },
     "execution_count": 25,
     "metadata": {},
     "output_type": "execute_result"
    },
    {
     "data": {
      "image/png": "[encoded data removed]",
      "text/plain": [
       "<Figure size 432x288 with 1 Axes>"
      ]
     },
     "metadata": {
      "needs_background": "light"
     },
     "output_type": "display_data"
    }
   ],
   "source": [
    "sns.distplot(df.query('Neighborhood == \"NridgHt\"')['SalePrice'], hist=False, label='NridgHt', kde_kws={\"shade\": True})\n",
    "sns.distplot(df.query('Neighborhood != \"NridgHt\"')['SalePrice'], hist=False, label='Other', kde_kws={\"shade\": True})\n"
   ]
  },
  {
   "cell_type": "markdown",
   "metadata": {},
   "source": [
    "`NridgHt`seem to have more expensive houses. \n",
    "Another example with `NoRidge`:"
   ]
  },
  {
   "cell_type": "code",
   "execution_count": 26,
   "metadata": {},
   "outputs": [
    {
     "data": {
      "text/plain": [
       "<matplotlib.axes._subplots.AxesSubplot at 0x29a33c63eb8>"
      ]
     },
     "execution_count": 26,
     "metadata": {},
     "output_type": "execute_result"
    },
    {
     "data": {
      "image/png": "[encoded data removed]",
      "text/plain": [
       "<Figure size 432x288 with 1 Axes>"
      ]
     },
     "metadata": {
      "needs_background": "light"
     },
     "output_type": "display_data"
    }
   ],
   "source": [
    "sns.distplot(df.query('Neighborhood == \"NoRidge\"')['SalePrice'], hist=False, label='NoRidge', kde_kws={\"shade\": True})\n",
    "sns.distplot(df.query('Neighborhood != \"NoRidge\"')['SalePrice'], hist=False, label='Other', kde_kws={\"shade\": True})\n"
   ]
  },
  {
   "cell_type": "markdown",
   "metadata": {},
   "source": [
    "These attributes have also been considered as important in the Lasso Regressions"
   ]
  }
 ],
 "metadata": {
  "kernelspec": {
   "display_name": "Python [conda env:anaconda3]",
   "language": "python",
   "name": "conda-env-anaconda3-py"
  },
  "language_info": {
   "codemirror_mode": {
    "name": "ipython",
    "version": 3
   },
   "file_extension": ".py",
   "mimetype": "text/x-python",
   "name": "python",
   "nbconvert_exporter": "python",
   "pygments_lexer": "ipython3",
   "version": "3.6.6"
  },
  "toc": {
   "base_numbering": 1,
   "nav_menu": {},
   "number_sections": true,
   "sideBar": true,
   "skip_h1_title": false,
   "title_cell": "Table of Contents",
   "title_sidebar": "Contents",
   "toc_cell": true,
   "toc_position": {},
   "toc_section_display": true,
   "toc_window_display": true
  },
  "varInspector": {
   "cols": {
    "lenName": 16,
    "lenType": 16,
    "lenVar": 40
   },
   "kernels_config": {
    "python": {
     "delete_cmd_postfix": "",
     "delete_cmd_prefix": "del ",
     "library": "var_list.py",
     "varRefreshCmd": "print(var_dic_list())"
    },
    "r": {
     "delete_cmd_postfix": ") ",
     "delete_cmd_prefix": "rm(",
     "library": "var_list.r",
     "varRefreshCmd": "cat(var_dic_list()) "
    }
   },
   "types_to_exclude": [
    "module",
    "function",
    "builtin_function_or_method",
    "instance",
    "_Feature"
   ],
   "window_display": false
  }
 },
 "nbformat": 4,
 "nbformat_minor": 2
}
