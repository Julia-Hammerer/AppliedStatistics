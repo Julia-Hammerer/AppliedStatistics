{
 "cells": [
  {
   "cell_type": "markdown",
   "metadata": {},
   "source": [
    "# Data exploration of House Price Predictions\n",
    "\n",
    "\n",
    "The data is downloaded from Kaggle and contains data about houses and around ~80 variables. The goal is to use these explanatory variables to predict the House Prices. Here, we are dealing with a regression problem \n",
    "\n",
    "https://www.kaggle.com/c/house-prices-advanced-regression-techniques\n",
    "\n",
    "This notebook is to explore the data, to understand the basic relationships between the variables and to get a feeling about which variables might be good predictors for the House prices. There will be a separate notebook containing statistical and machine learning models for the predictions.\n",
    "\n",
    "Author: Julia Hammerer, Vanessa Mai\n",
    "Last Changes: 18.11.2018"
   ]
  },
  {
   "cell_type": "markdown",
   "metadata": {
    "toc": true
   },
   "source": [
    "<h1>Table of Contents<span class=\"tocSkip\"></span></h1>\n",
    "<div class=\"toc\"><ul class=\"toc-item\"><li><span><a href=\"#Data-exploration-of-House-Price-Predictions\" data-toc-modified-id=\"Data-exploration-of-House-Price-Predictions-1\"><span class=\"toc-item-num\">1&nbsp;&nbsp;</span>Data exploration of House Price Predictions</a></span><ul class=\"toc-item\"><li><span><a href=\"#Data-Profile\" data-toc-modified-id=\"Data-Profile-1.1\"><span class=\"toc-item-num\">1.1&nbsp;&nbsp;</span>Data Profile</a></span></li><li><span><a href=\"#Missing-values\" data-toc-modified-id=\"Missing-values-1.2\"><span class=\"toc-item-num\">1.2&nbsp;&nbsp;</span>Missing values</a></span></li><li><span><a href=\"#Sanity-checks\" data-toc-modified-id=\"Sanity-checks-1.3\"><span class=\"toc-item-num\">1.3&nbsp;&nbsp;</span>Sanity checks</a></span></li><li><span><a href=\"#Cleanse-data\" data-toc-modified-id=\"Cleanse-data-1.4\"><span class=\"toc-item-num\">1.4&nbsp;&nbsp;</span>Cleanse data</a></span></li><li><span><a href=\"#Statistics\" data-toc-modified-id=\"Statistics-1.5\"><span class=\"toc-item-num\">1.5&nbsp;&nbsp;</span>Statistics</a></span></li></ul></li></ul></div>"
   ]
  },
  {
   "cell_type": "code",
   "execution_count": null,
   "metadata": {},
   "outputs": [],
   "source": [
    "import sys\n",
    "sys.path.insert(0, '../helper/')"
   ]
  },
  {
   "cell_type": "code",
   "execution_count": null,
   "metadata": {},
   "outputs": [],
   "source": [
    "# load packages\n",
    "%matplotlib inline\n",
    "import numpy as np\n",
    "import pandas as pd\n",
    "import seaborn as sns\n",
    "import pandas_profiling\n",
    "import missingno as msno\n",
    "import matplotlib.pyplot as plt\n",
    "import plotly.graph_objs as go\n",
    "\n",
    "from pandas.tools.plotting import table\n",
    "from plotly.offline import init_notebook_mode\n",
    "from plotly.offline import iplot\n",
    "from plotly.offline import plot\n",
    "from scipy.stats import mannwhitneyu\n",
    "from statsmodels.distributions.empirical_distribution import ECDF\n",
    "from scipy import stats\n",
    "from scipy.stats import pearsonr\n",
    "\n",
    "from helper import na_ratio_table"
   ]
  },
  {
   "cell_type": "code",
   "execution_count": null,
   "metadata": {},
   "outputs": [],
   "source": [
    "#load data\n",
    "# we have two files, since this is a part of a kaggle competition,\n",
    "# only the training-set contains the target variable\n",
    "# we will use that for the whole analysis\n",
    "\n",
    "df=pd.read_csv(\"../data/house_prices_train.csv\")"
   ]
  },
  {
   "cell_type": "code",
   "execution_count": null,
   "metadata": {},
   "outputs": [],
   "source": [
    "print(\"Number of records and variables: \",df.shape)"
   ]
  },
  {
   "cell_type": "markdown",
   "metadata": {},
   "source": [
    "## Data Profile"
   ]
  },
  {
   "cell_type": "code",
   "execution_count": null,
   "metadata": {
    "scrolled": false
   },
   "outputs": [],
   "source": [
    "# for a first overview, we apply the pandas-profile report\n",
    "# it provides simple histograms, distributions, missingness \n",
    "# and correlations for all variables\n",
    "\n",
    "pandas_profiling.ProfileReport(df)"
   ]
  },
  {
   "cell_type": "markdown",
   "metadata": {},
   "source": [
    "A description of all data fields can be found on the Kaggle site: https://www.kaggle.com/c/house-prices-advanced-regression-techniques/data. Most of them are self-explanatory though.\n",
    "\n",
    "Around half the variables are categorical and the other half are numerical. For the categorical variables there will be need to use hot-one-encoding for incorporating them into the prediction models.\n",
    "\n",
    "We can already spot some correlations that look promising. Some of them\n",
    "also are also expected and won't give us further insights. We are particularly\n",
    "interested in correlations with our target variable\n",
    "- OverallQual - SalePrice\n",
    "- GrLivArea - SalePrice\n",
    "- FullBatch - SalePrice\n",
    "- GarageYrBlt - YearRemodAdd\n",
    "- LotFrontage - lotArea\n",
    "- TotRmsAbvGrd - GrLivArea\n",
    "- BsmtUnfSF - BsmtFinSF1: negative correlation\n",
    "\n",
    "Also, we can detect variables that probably won't be of much use\n",
    "e.g.\n",
    "- Street: only two values, of which one is extremly low.\n",
    "- Utilities: Almost constant with two values, of which the other one has only one record"
   ]
  },
  {
   "cell_type": "markdown",
   "metadata": {},
   "source": [
    "## Missing values\n",
    "Let's check the missingness in more detail"
   ]
  },
  {
   "cell_type": "code",
   "execution_count": null,
   "metadata": {},
   "outputs": [],
   "source": [
    "display(na_ratio_table(df)[na_ratio_table(df)[\"NA_COUNT\"]>0])\n",
    "display(na_ratio_table(df)[na_ratio_table(df)[\"NA_COUNT\"]>0].shape)\n"
   ]
  },
  {
   "cell_type": "markdown",
   "metadata": {},
   "source": [
    "We have 19 variables that contain missing values. Most of them mean that the feature is simply not available for that property. However for a few, this can indicate a data quality issue:\n",
    "- Electrical: the type is not stated, it is improbable that there is no electrical system at all. \n",
    "- LotFrontage: a building should always have a lotfrontage\n",
    "\n",
    "As for \"Electrical\" only one record is missing, we can simply filter this out, or even ignore this. For the LotFrontage we can apply some imputation-techniques if necessary."
   ]
  },
  {
   "cell_type": "code",
   "execution_count": null,
   "metadata": {},
   "outputs": [],
   "source": [
    "# we test if the data is randomly missing, or if there are some patterns in the missingness\n",
    "# this helps us indicate whether there are data quality issues or if the missingness is part of the data\n",
    "msno.heatmap(df)"
   ]
  },
  {
   "cell_type": "markdown",
   "metadata": {},
   "source": [
    "As expected, we can see that some of the variables are always missing together, which makes absolutely sense. \n",
    "Example: All Garage related variables are always missing together. Reason: no garage -> no values for any garage features.\n",
    "The other group of variables missing together is related to the basement."
   ]
  },
  {
   "cell_type": "markdown",
   "metadata": {},
   "source": [
    "## Sanity checks\n",
    "We're going to check if there are some inconsistencies in the data or duplicates, etc. (Quality assessment)"
   ]
  },
  {
   "cell_type": "code",
   "execution_count": null,
   "metadata": {},
   "outputs": [],
   "source": [
    "# any duplicates?\n",
    "df[df.duplicated(keep=False)]\n"
   ]
  },
  {
   "cell_type": "code",
   "execution_count": null,
   "metadata": {
    "scrolled": true
   },
   "outputs": [],
   "source": [
    "# any built year before sold year?\n",
    "df.query('YearBuilt > YrSold')\n"
   ]
  },
  {
   "cell_type": "markdown",
   "metadata": {},
   "source": [
    "## Cleanse data"
   ]
  },
  {
   "cell_type": "code",
   "execution_count": null,
   "metadata": {},
   "outputs": [],
   "source": [
    "df=df.drop(columns=[\"Id\"])"
   ]
  },
  {
   "cell_type": "markdown",
   "metadata": {},
   "source": [
    "## Statistics"
   ]
  },
  {
   "cell_type": "code",
   "execution_count": null,
   "metadata": {},
   "outputs": [],
   "source": [
    "df.describe()"
   ]
  },
  {
   "cell_type": "code",
   "execution_count": null,
   "metadata": {},
   "outputs": [],
   "source": [
    "# we check for further correlations using different plots\n",
    "NUM_FEATURES =df.select_dtypes(include=[np.number]).columns.tolist()\n",
    "\n",
    "df_num=df[NUM_FEATURES]\n",
    "\n",
    "df_num_corr=df_num.corr()"
   ]
  }
 ],
 "metadata": {
  "kernelspec": {
   "display_name": "Python [conda env:anaconda3]",
   "language": "python",
   "name": "conda-env-anaconda3-py"
  },
  "language_info": {
   "codemirror_mode": {
    "name": "ipython",
    "version": 3
   },
   "file_extension": ".py",
   "mimetype": "text/x-python",
   "name": "python",
   "nbconvert_exporter": "python",
   "pygments_lexer": "ipython3",
   "version": "3.6.6"
  },
  "toc": {
   "base_numbering": 1,
   "nav_menu": {},
   "number_sections": true,
   "sideBar": true,
   "skip_h1_title": false,
   "title_cell": "Table of Contents",
   "title_sidebar": "Contents",
   "toc_cell": true,
   "toc_position": {
    "height": "calc(100% - 180px)",
    "left": "10px",
    "top": "150px",
    "width": "384px"
   },
   "toc_section_display": true,
   "toc_window_display": true
  },
  "varInspector": {
   "cols": {
    "lenName": 16,
    "lenType": 16,
    "lenVar": 40
   },
   "kernels_config": {
    "python": {
     "delete_cmd_postfix": "",
     "delete_cmd_prefix": "del ",
     "library": "var_list.py",
     "varRefreshCmd": "print(var_dic_list())"
    },
    "r": {
     "delete_cmd_postfix": ") ",
     "delete_cmd_prefix": "rm(",
     "library": "var_list.r",
     "varRefreshCmd": "cat(var_dic_list()) "
    }
   },
   "types_to_exclude": [
    "module",
    "function",
    "builtin_function_or_method",
    "instance",
    "_Feature"
   ],
   "window_display": false
  }
 },
 "nbformat": 4,
 "nbformat_minor": 2
}
